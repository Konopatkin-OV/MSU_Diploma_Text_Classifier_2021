{
 "cells": [
  {
   "cell_type": "markdown",
   "metadata": {},
   "source": [
    "# Модель обнаружения искусственных текстов\n",
    "\n",
    "Конопаткин О.В. <br>\n",
    "624 группа <br>\n",
    "ВМК МГУ <br>\n",
    "2021 год <br>"
   ]
  },
  {
   "cell_type": "markdown",
   "metadata": {},
   "source": [
    "### Установка зависимостей"
   ]
  },
  {
   "cell_type": "code",
   "execution_count": 1,
   "metadata": {},
   "outputs": [
    {
     "name": "stdout",
     "output_type": "stream",
     "text": [
      "Requirement already satisfied: setuptools in c:\\anaconda3\\lib\\site-packages (56.0.0)\n",
      "Requirement already satisfied: pip in c:\\anaconda3\\lib\\site-packages (21.0.1)\n"
     ]
    }
   ],
   "source": [
    "!pip install -U setuptools pip"
   ]
  },
  {
   "cell_type": "code",
   "execution_count": 2,
   "metadata": {},
   "outputs": [
    {
     "name": "stdout",
     "output_type": "stream",
     "text": [
      "Requirement already satisfied: sklearn in c:\\anaconda3\\lib\\site-packages (0.0)\n",
      "Requirement already satisfied: scikit-learn in c:\\anaconda3\\lib\\site-packages (from sklearn) (0.21.2)\n",
      "Requirement already satisfied: scipy>=0.17.0 in c:\\anaconda3\\lib\\site-packages (from scikit-learn->sklearn) (1.3.0)\n",
      "Requirement already satisfied: numpy>=1.11.0 in c:\\anaconda3\\lib\\site-packages (from scikit-learn->sklearn) (1.16.4)\n",
      "Requirement already satisfied: joblib>=0.11 in c:\\anaconda3\\lib\\site-packages (from scikit-learn->sklearn) (0.14.1)\n"
     ]
    }
   ],
   "source": [
    "!pip install sklearn"
   ]
  },
  {
   "cell_type": "code",
   "execution_count": 3,
   "metadata": {},
   "outputs": [
    {
     "name": "stdout",
     "output_type": "stream",
     "text": [
      "Requirement already satisfied: transformers==2.8.0 in c:\\anaconda3\\lib\\site-packages (2.8.0)\n",
      "Requirement already satisfied: numpy in c:\\anaconda3\\lib\\site-packages (from transformers==2.8.0) (1.16.4)\n",
      "Requirement already satisfied: sentencepiece in c:\\anaconda3\\lib\\site-packages (from transformers==2.8.0) (0.1.95)\n",
      "Requirement already satisfied: sacremoses in c:\\anaconda3\\lib\\site-packages (from transformers==2.8.0) (0.0.35)\n",
      "Requirement already satisfied: tokenizers==0.5.2 in c:\\anaconda3\\lib\\site-packages (from transformers==2.8.0) (0.5.2)\n",
      "Requirement already satisfied: boto3 in c:\\anaconda3\\lib\\site-packages (from transformers==2.8.0) (1.15.18)\n",
      "Requirement already satisfied: filelock in c:\\anaconda3\\lib\\site-packages (from transformers==2.8.0) (3.0.12)\n",
      "Requirement already satisfied: requests in c:\\anaconda3\\lib\\site-packages (from transformers==2.8.0) (2.22.0)\n",
      "Requirement already satisfied: regex!=2019.12.17 in c:\\anaconda3\\lib\\site-packages (from transformers==2.8.0) (2020.11.13)\n",
      "Requirement already satisfied: tqdm>=4.27 in c:\\anaconda3\\lib\\site-packages (from transformers==2.8.0) (4.32.2)\n",
      "Requirement already satisfied: botocore<1.19.0,>=1.18.18 in c:\\anaconda3\\lib\\site-packages (from boto3->transformers==2.8.0) (1.18.18)\n",
      "Requirement already satisfied: s3transfer<0.4.0,>=0.3.0 in c:\\anaconda3\\lib\\site-packages (from boto3->transformers==2.8.0) (0.3.3)\n",
      "Requirement already satisfied: jmespath<1.0.0,>=0.7.1 in c:\\anaconda3\\lib\\site-packages (from boto3->transformers==2.8.0) (0.10.0)\n",
      "Requirement already satisfied: urllib3<1.26,>=1.20 in c:\\anaconda3\\lib\\site-packages (from botocore<1.19.0,>=1.18.18->boto3->transformers==2.8.0) (1.25.9)\n",
      "Requirement already satisfied: python-dateutil<3.0.0,>=2.1 in c:\\anaconda3\\lib\\site-packages (from botocore<1.19.0,>=1.18.18->boto3->transformers==2.8.0) (2.8.1)\n",
      "Requirement already satisfied: six>=1.5 in c:\\anaconda3\\lib\\site-packages (from python-dateutil<3.0.0,>=2.1->botocore<1.19.0,>=1.18.18->boto3->transformers==2.8.0) (1.14.0)\n",
      "Requirement already satisfied: certifi>=2017.4.17 in c:\\anaconda3\\lib\\site-packages (from requests->transformers==2.8.0) (2020.12.5)\n",
      "Requirement already satisfied: chardet<3.1.0,>=3.0.2 in c:\\anaconda3\\lib\\site-packages (from requests->transformers==2.8.0) (3.0.4)\n",
      "Requirement already satisfied: idna<2.9,>=2.5 in c:\\anaconda3\\lib\\site-packages (from requests->transformers==2.8.0) (2.8)\n",
      "Requirement already satisfied: joblib in c:\\anaconda3\\lib\\site-packages (from sacremoses->transformers==2.8.0) (0.14.1)\n",
      "Requirement already satisfied: click in c:\\anaconda3\\lib\\site-packages (from sacremoses->transformers==2.8.0) (7.1.2)\n"
     ]
    }
   ],
   "source": [
    "!pip install transformers==2.8.0"
   ]
  },
  {
   "cell_type": "code",
   "execution_count": 4,
   "metadata": {},
   "outputs": [
    {
     "name": "stdout",
     "output_type": "stream",
     "text": [
      "Requirement already satisfied: torch in c:\\anaconda3\\lib\\site-packages (1.7.1)\n",
      "Requirement already satisfied: typing-extensions in c:\\anaconda3\\lib\\site-packages (from torch) (3.7.4.1)\n",
      "Requirement already satisfied: numpy in c:\\anaconda3\\lib\\site-packages (from torch) (1.16.4)\n"
     ]
    }
   ],
   "source": [
    "!pip install torch"
   ]
  },
  {
   "cell_type": "code",
   "execution_count": 5,
   "metadata": {},
   "outputs": [
    {
     "name": "stdout",
     "output_type": "stream",
     "text": [
      "Requirement already satisfied: scipy in c:\\anaconda3\\lib\\site-packages (1.3.0)\n",
      "Requirement already satisfied: numpy>=1.13.3 in c:\\anaconda3\\lib\\site-packages (from scipy) (1.16.4)\n"
     ]
    }
   ],
   "source": [
    "!pip install scipy"
   ]
  },
  {
   "cell_type": "code",
   "execution_count": 6,
   "metadata": {},
   "outputs": [
    {
     "name": "stdout",
     "output_type": "stream",
     "text": [
      "Requirement already satisfied: joblib in c:\\anaconda3\\lib\\site-packages (0.14.1)\n"
     ]
    }
   ],
   "source": [
    "!pip install joblib"
   ]
  },
  {
   "cell_type": "code",
   "execution_count": 7,
   "metadata": {},
   "outputs": [
    {
     "name": "stdout",
     "output_type": "stream",
     "text": [
      "Requirement already satisfied: matplotlib in c:\\anaconda3\\lib\\site-packages (3.2.1)\n",
      "Requirement already satisfied: python-dateutil>=2.1 in c:\\anaconda3\\lib\\site-packages (from matplotlib) (2.8.1)\n",
      "Requirement already satisfied: cycler>=0.10 in c:\\anaconda3\\lib\\site-packages (from matplotlib) (0.10.0)\n",
      "Requirement already satisfied: pyparsing!=2.0.4,!=2.1.2,!=2.1.6,>=2.0.1 in c:\\anaconda3\\lib\\site-packages (from matplotlib) (2.4.7)\n",
      "Requirement already satisfied: kiwisolver>=1.0.1 in c:\\anaconda3\\lib\\site-packages (from matplotlib) (1.2.0)\n",
      "Requirement already satisfied: numpy>=1.11 in c:\\anaconda3\\lib\\site-packages (from matplotlib) (1.16.4)\n",
      "Requirement already satisfied: six in c:\\anaconda3\\lib\\site-packages (from cycler>=0.10->matplotlib) (1.14.0)\n"
     ]
    }
   ],
   "source": [
    "!pip install matplotlib"
   ]
  },
  {
   "cell_type": "markdown",
   "metadata": {},
   "source": [
    "### Подключение библиотек"
   ]
  },
  {
   "cell_type": "code",
   "execution_count": 8,
   "metadata": {},
   "outputs": [],
   "source": [
    "import logging\n",
    "import sys\n",
    "import os\n",
    "\n",
    "from sklearn.ensemble import RandomForestClassifier, AdaBoostClassifier\n",
    "from sklearn import metrics"
   ]
  },
  {
   "cell_type": "code",
   "execution_count": 9,
   "metadata": {},
   "outputs": [],
   "source": [
    "# source: https://github.com/HendrikStrobelt/detecting-fake-text\n",
    "\n",
    "import numpy as np\n",
    "import torch\n",
    "import time\n",
    "\n",
    "from transformers import GPT2LMHeadModel, GPT2Tokenizer\n",
    "\n",
    "class AbstractLanguageChecker():\n",
    "    \"\"\"\n",
    "    Abstract Class that defines the Backend API of GLTR.\n",
    "\n",
    "    To extend the GLTR interface, you need to inherit this and\n",
    "    fill in the defined functions.\n",
    "    \"\"\"\n",
    "\n",
    "    def __init__(self):\n",
    "        '''\n",
    "        In the subclass, you need to load all necessary components\n",
    "        for the other functions.\n",
    "        Typically, this will comprise a tokenizer and a model.\n",
    "        '''\n",
    "        self.device = torch.device(\n",
    "            \"cuda\" if torch.cuda.is_available() else \"cpu\")\n",
    "\n",
    "    def check_probabilities(self, in_text, topk=40):\n",
    "        '''\n",
    "        Function that GLTR interacts with to check the probabilities of words\n",
    "\n",
    "        Params:\n",
    "        - in_text: str -- The text that you want to check\n",
    "        - topk: int -- Your desired truncation of the head of the distribution\n",
    "\n",
    "        Output:\n",
    "        - payload: dict -- The wrapper for results in this function, described below\n",
    "\n",
    "        Payload values\n",
    "        ==============\n",
    "        bpe_strings: list of str -- Each individual token in the text\n",
    "        real_topk: list of tuples -- (ranking, prob) of each token\n",
    "        pred_topk: list of list of tuple -- (word, prob) for all topk\n",
    "        '''\n",
    "        raise NotImplementedError\n",
    "\n",
    "    def postprocess(self, token):\n",
    "        \"\"\"\n",
    "        clean up the tokens from any special chars and encode\n",
    "        leading space by UTF-8 code '\\u0120', linebreak with UTF-8 code 266 '\\u010A'\n",
    "        :param token:  str -- raw token text\n",
    "        :return: str -- cleaned and re-encoded token text\n",
    "        \"\"\"\n",
    "        raise NotImplementedError\n",
    "\n",
    "\n",
    "def top_k_logits(logits, k):\n",
    "    '''\n",
    "    Filters logits to only the top k choices\n",
    "    from https://github.com/huggingface/pytorch-pretrained-BERT/blob/master/examples/run_gpt2.py\n",
    "    '''\n",
    "    if k == 0:\n",
    "        return logits\n",
    "    values, _ = torch.topk(logits, k)\n",
    "    min_values = values[:, -1]\n",
    "    return torch.where(logits < min_values,\n",
    "                       torch.ones_like(logits, dtype=logits.dtype) * -1e10,\n",
    "                       logits)\n",
    "\n",
    "\n",
    "#@register_api(name='gpt-2-small')\n",
    "class LM(AbstractLanguageChecker):\n",
    "    def __init__(self, model_name_or_path=\"gpt2\"):\n",
    "        super(LM, self).__init__()\n",
    "        self.enc = GPT2Tokenizer.from_pretrained(model_name_or_path)\n",
    "        self.model = GPT2LMHeadModel.from_pretrained(model_name_or_path)\n",
    "        self.model.to(self.device)\n",
    "        self.model.eval()\n",
    "        self.start_token = '<mask>'\n",
    "\n",
    "    def check_probabilities(self, in_text, topk=40):\n",
    "        # Process input\n",
    "        start_t = torch.full((1, 1),\n",
    "                             self.enc.encoder[self.start_token],\n",
    "                             device=self.device,\n",
    "                             dtype=torch.long)\n",
    "        context = self.enc.encode(in_text)\n",
    "        context = torch.tensor(context,\n",
    "                               device=self.device,\n",
    "                               dtype=torch.long).unsqueeze(0)\n",
    "        context = torch.cat([start_t, context], dim=1)\n",
    "        # Forward through the model\n",
    "        logits, _ = self.model(context)\n",
    "\n",
    "        # construct target and pred\n",
    "        yhat = torch.softmax(logits[0, :-1], dim=-1)\n",
    "        y = context[0, 1:]\n",
    "        # Sort the predictions for each timestep\n",
    "        sorted_preds = np.argsort(-yhat.data.cpu().numpy())\n",
    "        # [(pos, prob), ...]\n",
    "        real_topk_pos = list(\n",
    "            [int(np.where(sorted_preds[i] == y[i].item())[0][0])\n",
    "             for i in range(y.shape[0])])\n",
    "        real_topk_probs = yhat[np.arange(\n",
    "            0, y.shape[0], 1), y].data.cpu().numpy().tolist()\n",
    "        real_topk_probs = list(map(lambda x: round(x, 5), real_topk_probs))\n",
    "\n",
    "        real_topk = list(zip(real_topk_pos, real_topk_probs))\n",
    "        # [str, str, ...]\n",
    "        bpe_strings = [self.enc.decoder[s.item()] for s in context[0]]\n",
    "\n",
    "        bpe_strings = [self.postprocess(s) for s in bpe_strings]\n",
    "\n",
    "        # [[(pos, prob), ...], [(pos, prob), ..], ...]\n",
    "        pred_topk = [\n",
    "            list(zip([self.enc.decoder[p] for p in sorted_preds[i][:topk]],\n",
    "                     list(map(lambda x: round(x, 5),\n",
    "                              yhat[i][sorted_preds[i][\n",
    "                                      :topk]].data.cpu().numpy().tolist()))))\n",
    "            for i in range(y.shape[0])]\n",
    "\n",
    "        pred_topk = [[(self.postprocess(t[0]), t[1]) for t in pred] for pred in pred_topk]\n",
    "        payload = {'bpe_strings': bpe_strings,\n",
    "                   'real_topk': real_topk,\n",
    "                   'pred_topk': pred_topk}\n",
    "        if torch.cuda.is_available():\n",
    "            torch.cuda.empty_cache()\n",
    "\n",
    "        return payload\n",
    "\n",
    "    def sample_unconditional(self, length=100, topk=5, temperature=1.0):\n",
    "        '''\n",
    "        Sample `length` words from the model.\n",
    "        Code strongly inspired by\n",
    "        https://github.com/huggingface/pytorch-pretrained-BERT/blob/master/examples/run_gpt2.py\n",
    "\n",
    "        '''\n",
    "        context = torch.full((1, 1),\n",
    "                             self.enc.encoder[self.start_token],\n",
    "                             device=self.device,\n",
    "                             dtype=torch.long)\n",
    "        prev = context\n",
    "        output = context\n",
    "        past = None\n",
    "        # Forward through the model\n",
    "        with torch.no_grad():\n",
    "            for i in range(length):\n",
    "                logits, past = self.model(prev, past=past)\n",
    "                logits = logits[:, -1, :] / temperature\n",
    "                # Filter predictions to topk and softmax\n",
    "                probs = torch.softmax(top_k_logits(logits, k=topk),\n",
    "                                      dim=-1)\n",
    "                # Sample\n",
    "                prev = torch.multinomial(probs, num_samples=1)\n",
    "                # Construct output\n",
    "                output = torch.cat((output, prev), dim=1)\n",
    "\n",
    "        output_text = self.enc.decode(output[0].tolist())\n",
    "        return output_text\n",
    "\n",
    "    def postprocess(self, token):\n",
    "        with_space = False\n",
    "        with_break = False\n",
    "        if token.startswith('Д '):\n",
    "            with_space = True\n",
    "            token = token[1:]\n",
    "            # print(token)\n",
    "        elif token.startswith('Гў'):\n",
    "            token = ' '\n",
    "        elif token.startswith('ДЉ'):\n",
    "            token = ' '\n",
    "            with_break = True\n",
    "\n",
    "        token = '-' if token.startswith('Гў') else token\n",
    "        token = 'вЂњ' if token.startswith('Дѕ') else token\n",
    "        token = 'вЂќ' if token.startswith('Дї') else token\n",
    "        token = \"'\" if token.startswith('Д»') else token\n",
    "\n",
    "        if with_space:\n",
    "            token = '\\u0120' + token\n",
    "        if with_break:\n",
    "            token = '\\u010A' + token\n",
    "\n",
    "        return token\n"
   ]
  },
  {
   "cell_type": "markdown",
   "metadata": {},
   "source": [
    "### Загрузка моделей"
   ]
  },
  {
   "cell_type": "code",
   "execution_count": 10,
   "metadata": {},
   "outputs": [
    {
     "name": "stdout",
     "output_type": "stream",
     "text": [
      "Wall time: 42.7 s\n"
     ]
    }
   ],
   "source": [
    "%%time\n",
    "global_path = os.getcwd()\n",
    "gpt_path = os.path.join(global_path, \"ruGPT-3\", \"rugpt3large_based_on_gpt2\") \n",
    "# source: https://github.com/sberbank-ai/ru-gpts\n",
    "\n",
    "lm = LM(gpt_path)"
   ]
  },
  {
   "cell_type": "code",
   "execution_count": 11,
   "metadata": {},
   "outputs": [],
   "source": [
    "from joblib import load\n",
    "best_clf = load(os.path.join(global_path, \"Models\", \"AdaBoost_GLTR_all_20k_dataset.joblib\"))"
   ]
  },
  {
   "cell_type": "markdown",
   "metadata": {},
   "source": [
    "### Функции для запуска моделей"
   ]
  },
  {
   "cell_type": "code",
   "execution_count": 12,
   "metadata": {},
   "outputs": [],
   "source": [
    "from scipy.stats import entropy\n",
    "from bisect import bisect_left\n",
    "\n",
    "def pred_entropy(pred):\n",
    "    return entropy(list(map(lambda elem: elem[1], pred)), base=2)\n",
    "\n",
    "def GLTR_convert_full(model, text):\n",
    "    payload = model.check_probabilities(text, topk=10)\n",
    "    res = []\n",
    "    for i in range(len(payload[\"real_topk\"])):\n",
    "        cur_real = payload[\"real_topk\"][i]\n",
    "        cur_pred = payload[\"pred_topk\"][i]\n",
    "        res.append({\"pos\": cur_real[0], \"prob\": cur_real[1], \"top_prob\": (cur_pred[0][1], cur_pred[1][1]), \"top_10_entropy\": pred_entropy(cur_pred)})\n",
    "    return res\n",
    "\n",
    "TOP_K_BOXES = [10, 100, 1000]\n",
    "PROB_BOXES = [0.1 * i for i in range(1, 10)]\n",
    "ENTROPY_BOXES = [0.3 * i for i in range(1, 12)]\n",
    "\n",
    "def count_hist(data_list, top_k_boxes=TOP_K_BOXES, prob_boxes=PROB_BOXES, ent_boxes=ENTROPY_BOXES):\n",
    "    top_k_hist = [0 for i in range(len(top_k_boxes) + 1)]\n",
    "    prob_hist = [0 for i in range(len(prob_boxes) + 1)]\n",
    "    ent_hist = [0 for i in range(len(ent_boxes) + 1)]\n",
    "    for elem in data_list:\n",
    "        top_k = elem[\"pos\"]\n",
    "        top_k_hist[bisect_left(top_k_boxes, top_k)] += 1\n",
    "        prob = elem[\"prob\"] / elem[\"top_prob\"][0] # or maybe elem[\"top_pprob\"][1] / elem[\"top_prob\"][0]\n",
    "        prob_hist[bisect_left(prob_boxes, prob)] += 1\n",
    "        ent = elem[\"top_10_entropy\"]\n",
    "        ent_hist[bisect_left(ent_boxes, ent)] += 1\n",
    "    div = lambda x: x / len(data_list)\n",
    "    return list(map(div, top_k_hist + prob_hist + ent_hist))"
   ]
  },
  {
   "cell_type": "code",
   "execution_count": 13,
   "metadata": {},
   "outputs": [
    {
     "name": "stdout",
     "output_type": "stream",
     "text": [
      "Wall time: 16.2 s\n"
     ]
    }
   ],
   "source": [
    "%%time\n",
    "test_hist = count_hist(GLTR_convert_full(lm, \n",
    "\"\"\"«Газпром» и Белоруссия подписали соглашение о поставках российского газа. Как передает ИА «Регнум», глава компании Алексей Миллер сообщил журналистам подробности соглашения.  Цена российского газа для Белоруссии составит с 1 января 100 долларов США за 1000 кубометров и в дальнейшем будет рассчитываться по формуле цены, установленной в контракте. К 2011 году она вырастет до среднеевропейского уровня.   Стоимость транспортировки российского газа по территории Белоруссии вырастет с нынешних 0,75 доллара США за 1000 кубометров на 100 километров до 1,45 доллара США и будет зафиксирована на все пять лет действия контракта.   \"Газпром\" в ближайшие 4 года выкупит 50% акций \"Белтрансгаза\" за 2,5 миллиарда долларов в течение 4 лет.   Последние переговоры между сторонами прошли вчера в Москве.\"\"\"\n",
    "))"
   ]
  },
  {
   "cell_type": "code",
   "execution_count": 14,
   "metadata": {},
   "outputs": [],
   "source": [
    "import matplotlib.pyplot as plt\n",
    "\n",
    "def pretty_predict_one(s):\n",
    "    hist = count_hist(GLTR_convert_full(lm, s))\n",
    "    hist_sizes = (len(TOP_K_BOXES) + 1, len(PROB_BOXES) + 1, len(ENTROPY_BOXES) + 1)\n",
    "    top_k_hist = hist[:hist_sizes[0]]\n",
    "    prob_hist = hist[hist_sizes[0]:hist_sizes[0]+hist_sizes[1]]\n",
    "    ent_hist = hist[hist_sizes[0]+hist_sizes[1]:]\n",
    "    fig, (ax1, ax2, ax3) = plt.subplots(1, 3, figsize=(15, 6))\n",
    "    \n",
    "    ax1.set_title(\"top k frequency\")\n",
    "    ax1.bar(np.arange(hist_sizes[0]), top_k_hist, width=-0.9, align=\"edge\", tick_label=TOP_K_BOXES+[\"\"])\n",
    "    \n",
    "    ax2.set_title(\"frac(p) histogram\")\n",
    "    ax2.bar(np.arange(hist_sizes[1]), prob_hist, width=-0.9, align=\"edge\", tick_label=list(map(lambda x: round(x, 1), PROB_BOXES))+[\"1.0\"])\n",
    "    \n",
    "    ax3.set_title(\"top 10 entropy(p) histogram\")\n",
    "    ax3.bar(np.arange(hist_sizes[2]), ent_hist, width=-0.9, align=\"edge\", tick_label=list(map(lambda x: round(x, 1), ENTROPY_BOXES))+[\"\"])\n",
    "    \n",
    "    plt.show()\n",
    "    \n",
    "    result = best_clf.predict([hist])[0]\n",
    "    print(\"Model prediction: {}\".format(\"Natural text (positive)\" if result else \"Artificial text (negative)\"))\n",
    "    \n",
    "def pretty_predict(X):\n",
    "    if isinstance(X, list):\n",
    "        for elem in X:\n",
    "            print(\"Text: \\\"{}\\\"\".format(elem))\n",
    "            pretty_predict_one(elem)\n",
    "    elif isinstance(X, str):\n",
    "        print(\"Text: \\\"{}\\\"\".format(X))\n",
    "        pretty_predict_one(X)\n",
    "    else:\n",
    "        print(\"X must be list or str\")\n",
    "        raise NotImplemented"
   ]
  },
  {
   "cell_type": "markdown",
   "metadata": {},
   "source": [
    "### Классификация"
   ]
  },
  {
   "cell_type": "code",
   "execution_count": 15,
   "metadata": {},
   "outputs": [
    {
     "name": "stdout",
     "output_type": "stream",
     "text": [
      "Text: \"«Газпром» и Белоруссия подписали соглашение о поставках российского газа. Как передает ИА «Регнум», глава компании Алексей Миллер сообщил журналистам подробности соглашения.  Цена российского газа для Белоруссии составит с 1 января 100 долларов США за 1000 кубометров и в дальнейшем будет рассчитываться по формуле цены, установленной в контракте. К 2011 году она вырастет до среднеевропейского уровня.   Стоимость транспортировки российского газа по территории Белоруссии вырастет с нынешних 0,75 доллара США за 1000 кубометров на 100 километров до 1,45 доллара США и будет зафиксирована на все пять лет действия контракта.   \"Газпром\" в ближайшие 4 года выкупит 50% акций \"Белтрансгаза\" за 2,5 миллиарда долларов в течение 4 лет.   Последние переговоры между сторонами прошли вчера в Москве.\"\n"
     ]
    },
    {
     "data": {
      "image/png": "[encoded data removed]",
      "text/plain": [
       "<Figure size 1080x432 with 3 Axes>"
      ]
     },
     "metadata": {
      "needs_background": "light"
     },
     "output_type": "display_data"
    },
    {
     "name": "stdout",
     "output_type": "stream",
     "text": [
      "Model prediction: Natural text (positive)\n",
      "Wall time: 11.6 s\n"
     ]
    }
   ],
   "source": [
    "%%time\n",
    "# natural example\n",
    "pretty_predict(\"\"\"«Газпром» и Белоруссия подписали соглашение о поставках российского газа. Как передает ИА «Регнум», глава компании Алексей Миллер сообщил журналистам подробности соглашения.  Цена российского газа для Белоруссии составит с 1 января 100 долларов США за 1000 кубометров и в дальнейшем будет рассчитываться по формуле цены, установленной в контракте. К 2011 году она вырастет до среднеевропейского уровня.   Стоимость транспортировки российского газа по территории Белоруссии вырастет с нынешних 0,75 доллара США за 1000 кубометров на 100 километров до 1,45 доллара США и будет зафиксирована на все пять лет действия контракта.   \"Газпром\" в ближайшие 4 года выкупит 50% акций \"Белтрансгаза\" за 2,5 миллиарда долларов в течение 4 лет.   Последние переговоры между сторонами прошли вчера в Москве.\"\"\")"
   ]
  },
  {
   "cell_type": "code",
   "execution_count": 16,
   "metadata": {},
   "outputs": [
    {
     "name": "stdout",
     "output_type": "stream",
     "text": [
      "Text: \"ГУ ФСИН 27 мая открывает горячую линию. Она будет работать всего лишь час - с 11.00 до 12.00. Как сообщили «Фонтанке» в пресс-службе ведомства,  звонки будут приниматься по телефону 8-800-700-75-75.  Власти Москвы планируют потратить около 5 миллиардов рублей на строительство дорог к местам массовых митингов. Соответствующий проект постановления опубликован на сайте правительства столицы, передает РИА «Новости». Согласно документу, на строительство и ремонт дорог будет потрачено около 4,5 миллиарда рублей. В документе говорится, что средства будут направлены в первую очередь на реконструкцию вылетных магистралей и развязок, строительство путепроводов, путепроводны\"\n"
     ]
    },
    {
     "data": {
      "image/png": "[encoded data removed]",
      "text/plain": [
       "<Figure size 1080x432 with 3 Axes>"
      ]
     },
     "metadata": {
      "needs_background": "light"
     },
     "output_type": "display_data"
    },
    {
     "name": "stdout",
     "output_type": "stream",
     "text": [
      "Model prediction: Artificial text (negative)\n",
      "Wall time: 12.5 s\n"
     ]
    }
   ],
   "source": [
    "%%time\n",
    "# top_k=5, top_p=0.95 example\n",
    "pretty_predict(\"\"\"ГУ ФСИН 27 мая открывает горячую линию. Она будет работать всего лишь час - с 11.00 до 12.00. Как сообщили «Фонтанке» в пресс-службе ведомства,  звонки будут приниматься по телефону 8-800-700-75-75.  Власти Москвы планируют потратить около 5 миллиардов рублей на строительство дорог к местам массовых митингов. Соответствующий проект постановления опубликован на сайте правительства столицы, передает РИА «Новости». Согласно документу, на строительство и ремонт дорог будет потрачено около 4,5 миллиарда рублей. В документе говорится, что средства будут направлены в первую очередь на реконструкцию вылетных магистралей и развязок, строительство путепроводов, путепроводны\"\"\")"
   ]
  },
  {
   "cell_type": "code",
   "execution_count": 17,
   "metadata": {},
   "outputs": [
    {
     "name": "stdout",
     "output_type": "stream",
     "text": [
      "Text: \"Около 11 часов утра от помещения изолятора временного содержания ГУВД Петербурга и Ленобласти на Захарьевской,  9, поехал в Железку на митинг за обмен задержанных надолбитников. Далее всё вернулось к той обычной схеме, когда два-три десятка человек организованно в десять утра рвутся к автобусам. В штаб мониторинга ехали вдоль Пушкинской. Временами колонна останавливалась на пролётах лестничных переходов, где несколько дней назад протестующие избивали милиционеров и проводились беспорядки, по крайней мере, на нашем участке. Одновременно со скандированием у телефонной будки, было забросано потомств\"\n"
     ]
    },
    {
     "data": {
      "image/png": "[encoded data removed]",
      "text/plain": [
       "<Figure size 1080x432 with 3 Axes>"
      ]
     },
     "metadata": {
      "needs_background": "light"
     },
     "output_type": "display_data"
    },
    {
     "name": "stdout",
     "output_type": "stream",
     "text": [
      "Model prediction: Artificial text (negative)\n",
      "Wall time: 12.4 s\n"
     ]
    }
   ],
   "source": [
    "%%time\n",
    "# top_k=0, top_p=1.0 example\n",
    "pretty_predict(\"\"\"Около 11 часов утра от помещения изолятора временного содержания ГУВД Петербурга и Ленобласти на Захарьевской,  9, поехал в Железку на митинг за обмен задержанных надолбитников. Далее всё вернулось к той обычной схеме, когда два-три десятка человек организованно в десять утра рвутся к автобусам. В штаб мониторинга ехали вдоль Пушкинской. Временами колонна останавливалась на пролётах лестничных переходов, где несколько дней назад протестующие избивали милиционеров и проводились беспорядки, по крайней мере, на нашем участке. Одновременно со скандированием у телефонной будки, было забросано потомств\"\"\")"
   ]
  },
  {
   "cell_type": "code",
   "execution_count": null,
   "metadata": {},
   "outputs": [],
   "source": []
  }
 ],
 "metadata": {
  "kernelspec": {
   "display_name": "Python 3",
   "language": "python",
   "name": "python3"
  },
  "language_info": {
   "codemirror_mode": {
    "name": "ipython",
    "version": 3
   },
   "file_extension": ".py",
   "mimetype": "text/x-python",
   "name": "python",
   "nbconvert_exporter": "python",
   "pygments_lexer": "ipython3",
   "version": "3.7.6"
  }
 },
 "nbformat": 4,
 "nbformat_minor": 4
}
